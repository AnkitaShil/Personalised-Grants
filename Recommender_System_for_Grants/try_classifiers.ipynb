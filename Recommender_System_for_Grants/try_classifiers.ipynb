{
 "cells": [
  {
   "cell_type": "markdown",
   "metadata": {},
   "source": [
    "# Trying Different Classifiers"
   ]
  },
  {
   "cell_type": "code",
   "execution_count": 13,
   "metadata": {},
   "outputs": [],
   "source": [
    "import warnings\n",
    "warnings.simplefilter('ignore')"
   ]
  },
  {
   "cell_type": "code",
   "execution_count": 14,
   "metadata": {},
   "outputs": [],
   "source": [
    "import pandas as pd\n",
    "import numpy as np\n",
    "from sklearn.ensemble import RandomForestClassifier\n",
    "from sklearn.svm import SVC, LinearSVC\n",
    "from sklearn.naive_bayes import GaussianNB, BernoulliNB, MultinomialNB\n",
    "from sklearn.linear_model import LogisticRegression\n",
    "from sklearn.model_selection import train_test_split\n",
    "from sklearn.metrics import confusion_matrix"
   ]
  },
  {
   "cell_type": "code",
   "execution_count": 15,
   "metadata": {},
   "outputs": [],
   "source": [
    "X_recep = pd.read_csv(\"kiva_loans.csv//recep_data.csv\")\n",
    "y_recep = pd.read_csv(\"kiva_loans.csv//recep_labels.csv\")"
   ]
  },
  {
   "cell_type": "code",
   "execution_count": 16,
   "metadata": {},
   "outputs": [],
   "source": [
    "X_train, X_test, y_train, y_test = train_test_split(X_recep, y_recep, test_size=0.5)"
   ]
  },
  {
   "cell_type": "code",
   "execution_count": 17,
   "metadata": {},
   "outputs": [],
   "source": [
    "def apply_classifier(classifier, X_train, y_train, X_test, y_test):\n",
    "    clf = classifier()\n",
    "    clf.fit(X_train, y_train)\n",
    "    y_pred = clf.predict(X_test)\n",
    "    print(\"Confusion Matrix:\\n\")\n",
    "    conf = confusion_matrix(y_test, y_pred, labels=range(10))\n",
    "    print(pd.DataFrame(conf))\n",
    "    print(\"Accuracy:\", clf.score(X_test, y_test), \"\\n\")"
   ]
  },
  {
   "cell_type": "code",
   "execution_count": 18,
   "metadata": {},
   "outputs": [
    {
     "name": "stdout",
     "output_type": "stream",
     "text": [
      "Confusion Matrix:\n",
      "\n",
      "      0    1    2    3    4  5   6     7    8    9\n",
      "0  1997    0    0    0    0  0   0     0    0    0\n",
      "1     0  202    0    1    1  0   0     0    0    0\n",
      "2    12    0  626    0    0  0   0     0    0    0\n",
      "3     0    6    0  107    0  0   0     0    0    0\n",
      "4     0    0    2    0  165  0   0     0    1    1\n",
      "5     0    0    0    0    0  0   0     0    0    0\n",
      "6     0    0    0    4    0  0  32     0    0    0\n",
      "7     1    0    0    0    0  0   0  2132    0    0\n",
      "8     0    2    0    0    0  0   0     0  125    0\n",
      "9     0    0    3    0    1  0   0     0    0  190\n",
      "Accuracy: 0.9937622527178755 \n",
      "\n"
     ]
    }
   ],
   "source": [
    "apply_classifier(RandomForestClassifier, X_train, y_train, X_test, y_test)"
   ]
  },
  {
   "cell_type": "code",
   "execution_count": 19,
   "metadata": {},
   "outputs": [
    {
     "name": "stdout",
     "output_type": "stream",
     "text": [
      "Confusion Matrix:\n",
      "\n",
      "      0    1    2    3    4  5   6     7    8    9\n",
      "0  1997    0    0    0    0  0   0     0    0    0\n",
      "1     0  204    0    0    0  0   0     0    0    0\n",
      "2     0    0  638    0    0  0   0     0    0    0\n",
      "3     0    0    0  113    0  0   0     0    0    0\n",
      "4     0    0    0    4  165  0   0     0    0    0\n",
      "5     0    0    0    0    0  0   0     0    0    0\n",
      "6     0    0    0   17    0  0  19     0    0    0\n",
      "7     0    0    0    0    0  0   0  2133    0    0\n",
      "8     0    0    0    0    0  0   0     0  127    0\n",
      "9     0    0    0    0    0  0   0     0    0  194\n",
      "Accuracy: 0.9962573516307254 \n",
      "\n"
     ]
    }
   ],
   "source": [
    "apply_classifier(SVC, X_train, y_train, X_test, y_test)"
   ]
  },
  {
   "cell_type": "code",
   "execution_count": 20,
   "metadata": {},
   "outputs": [
    {
     "name": "stdout",
     "output_type": "stream",
     "text": [
      "Confusion Matrix:\n",
      "\n",
      "   0  1    2  3  4    5  6     7  8  9\n",
      "0  0  0  298  0  0  370  0  1329  0  0\n",
      "1  0  0  204  0  0    0  0     0  0  0\n",
      "2  0  0  624  0  0   14  0     0  0  0\n",
      "3  0  0  113  0  0    0  0     0  0  0\n",
      "4  0  0  169  0  0    0  0     0  0  0\n",
      "5  0  0    0  0  0    0  0     0  0  0\n",
      "6  0  0   36  0  0    0  0     0  0  0\n",
      "7  0  0    0  0  0    0  0  2133  0  0\n",
      "8  0  0  127  0  0    0  0     0  0  0\n",
      "9  0  0  194  0  0    0  0     0  0  0\n",
      "Accuracy: 0.49135626448048475 \n",
      "\n"
     ]
    }
   ],
   "source": [
    "apply_classifier(LinearSVC, X_train, y_train, X_test, y_test)"
   ]
  },
  {
   "cell_type": "code",
   "execution_count": 21,
   "metadata": {},
   "outputs": [
    {
     "name": "stdout",
     "output_type": "stream",
     "text": [
      "Confusion Matrix:\n",
      "\n",
      "      0   1    2   3    4  5   6     7    8    9\n",
      "0  1712   0  125   0    0  0  21   135    0    4\n",
      "1     0  92    0  80    1  0  18     0   13    0\n",
      "2    44   0  538   0    0  0   2     0    0   54\n",
      "3     0   1    1  62    0  0  46     0    3    0\n",
      "4     0   0    0   0  117  0  13     0   35    4\n",
      "5     0   0    0   0    0  0   0     0    0    0\n",
      "6     0   0    0   4    0  0  32     0    0    0\n",
      "7   330   0    7   0    0  0   8  1787    0    1\n",
      "8     0   6    0   0    4  0  13     0  104    0\n",
      "9     0   0   24   0   64  0   1     0    1  104\n",
      "Accuracy: 0.8105507039743362 \n",
      "\n"
     ]
    }
   ],
   "source": [
    "apply_classifier(GaussianNB, X_train, y_train, X_test, y_test)"
   ]
  },
  {
   "cell_type": "code",
   "execution_count": 22,
   "metadata": {},
   "outputs": [
    {
     "name": "stdout",
     "output_type": "stream",
     "text": [
      "Confusion Matrix:\n",
      "\n",
      "      0   1    2  3  4  5  6     7   8   9\n",
      "0  1324  75  112  0  0  0  0   433  15  38\n",
      "1    91  80    9  0  0  0  0     0   2  22\n",
      "2   180  71  322  0  0  0  0    15  12  38\n",
      "3    50  43    6  0  0  0  0     0   2  12\n",
      "4   103  31   10  0  0  0  0     1   7  17\n",
      "5     0   0    0  0  0  0  0     0   0   0\n",
      "6    10  23    0  0  0  0  0     0   1   2\n",
      "7   950   0   77  0  0  0  0  1096   0  10\n",
      "8    60  44    6  0  0  0  0     0   6  11\n",
      "9    85  33   43  0  0  0  0     0   3  30\n",
      "Accuracy: 0.5093566209231866 \n",
      "\n"
     ]
    }
   ],
   "source": [
    "apply_classifier(BernoulliNB, X_train, y_train, X_test, y_test)"
   ]
  },
  {
   "cell_type": "code",
   "execution_count": 23,
   "metadata": {},
   "outputs": [
    {
     "name": "stdout",
     "output_type": "stream",
     "text": [
      "Confusion Matrix:\n",
      "\n",
      "      0    1    2  3   4  5  6     7  8   9\n",
      "0  1560    0   75  0   0  0  0   362  0   0\n",
      "1     0  169    1  0  17  0  0     0  4  13\n",
      "2   228    0  394  0   0  0  0     0  0  16\n",
      "3     0   93    0  0  16  0  0     0  4   0\n",
      "4     1   77   37  0  27  0  0     0  7  20\n",
      "5     0    0    0  0   0  0  0     0  0   0\n",
      "6     0   31    0  0   2  0  0     0  1   2\n",
      "7   475    0    0  0   0  0  0  1658  0   0\n",
      "8     0   90    6  0  13  0  0     0  6  12\n",
      "9     4   40   86  0  23  0  0     0  1  40\n",
      "Accuracy: 0.6868650864373552 \n",
      "\n"
     ]
    }
   ],
   "source": [
    "apply_classifier(MultinomialNB, X_train, y_train, X_test, y_test)"
   ]
  },
  {
   "cell_type": "code",
   "execution_count": 24,
   "metadata": {},
   "outputs": [
    {
     "name": "stdout",
     "output_type": "stream",
     "text": [
      "Confusion Matrix:\n",
      "\n",
      "      0    1    2   3   4  5  6     7  8   9\n",
      "0  1662    0  235   0   0  0  0   100  0   0\n",
      "1     1  176    0   3  22  0  0     0  2   0\n",
      "2   132    0  506   0   0  0  0     0  0   0\n",
      "3     0   90    0  18   3  0  0     0  2   0\n",
      "4    76   34   15   0  15  0  0     0  7  22\n",
      "5     0    0    0   0   0  0  0     0  0   0\n",
      "6     0    9    0  25   0  0  2     0  0   0\n",
      "7    71    0    0   0   0  0  0  2062  0   0\n",
      "8     0   86    0   1  25  0  0     0  6   9\n",
      "9    58    0  116   0   0  0  0     0  0  20\n",
      "Accuracy: 0.7961147745499911 \n",
      "\n"
     ]
    }
   ],
   "source": [
    "apply_classifier(LogisticRegression, X_train, y_train, X_test, y_test)"
   ]
  }
 ],
 "metadata": {
  "kernelspec": {
   "display_name": "Python 3",
   "language": "python",
   "name": "python3"
  },
  "language_info": {
   "codemirror_mode": {
    "name": "ipython",
    "version": 3
   },
   "file_extension": ".py",
   "mimetype": "text/x-python",
   "name": "python",
   "nbconvert_exporter": "python",
   "pygments_lexer": "ipython3",
   "version": "3.7.5"
  }
 },
 "nbformat": 4,
 "nbformat_minor": 4
}
